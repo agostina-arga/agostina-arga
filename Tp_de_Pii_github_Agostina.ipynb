{
  "cells": [
    {
      "cell_type": "markdown",
      "metadata": {
        "id": "view-in-github",
        "colab_type": "text"
      },
      "source": [
        "<a href=\"https://colab.research.google.com/github/agostina-arga/agostina-arga/blob/main/Tp_de_Pii_github_Agostina.ipynb\" target=\"_parent\"><img src=\"https://colab.research.google.com/assets/colab-badge.svg\" alt=\"Open In Colab\"/></a>"
      ]
    },
    {
      "cell_type": "code",
      "execution_count": null,
      "metadata": {
        "colab": {
          "background_save": true
        },
        "id": "8VOD-zpMJovw"
      },
      "outputs": [],
      "source": [
        "# Lista de alumnos\n",
        "alumnos = [\n",
        "    \"Alurralde, Solange Stefania\",\n",
        "    \"Alvarado, Ludmila Del Milagro\",\n",
        "    \"Angel, Camila Juliana\",\n",
        "    \"Arenas, Lucas Gabriel\",\n",
        "    \"Caseres, Maria Antonia\",\n",
        "    \"Castillo, Paulina Milagros\",\n",
        "    \"Correa Segovia, Hugo Mariano\",\n",
        "    \"D Elia, Alvaro Tadeo\",\n",
        "    \"Flores, Victoria Agustina\",\n",
        "    \"Geronimo Soriano, Lizzie Amaya\",\n",
        "    \"GUZMAN, ANGÉLICA MORENA\",\n",
        "    \"Guzman, Jazmin Esmeralda Belen\",\n",
        "    \"Jaime, Anita Maria Belen\",\n",
        "    \"Lacour Polo, Nazarena\",\n",
        "    \"Lascano Guanca, Marcelo Fabricio\",\n",
        "    \"Lezcano, Celia Morena\",\n",
        "    \"Mamani Kynast, Nicolas Mauricio\",\n",
        "    \"Martinez, Tomas Andres\",\n",
        "    \"PORTELLA VALDIVIA, PEDRO FRANCISCO\",\n",
        "    \"Retamal Cisneros, Zacarias Josue\",\n",
        "    \"Rosales, Francisco Gabriel\",\n",
        "    \"Salem Barba, Mahia\",\n",
        "    \"Soto Camara, Agustin Ignacio\",\n",
        "    \"Villalba, Irina\",\n",
        "    \"Voltolini, Emanuel Tobias\",\n",
        "    \"Zalazar, Santino Stefano\",\n",
        "    \"ABUD LASPIUR, LOURDES MARIEL\",\n",
        "    \"Amador, Luana Micaela\",\n",
        "    \"Anaquin, Leonardo Ezequiel\",\n",
        "    \"Araoz Sanchez, Lautaro Nahuel\",\n",
        "    \"Argañaraz, Agostina Abril\",\n",
        "    \"Barrera, Matias Ezequiel\",\n",
        "    \"Barrozo Vedia, Joaquin Nicolas\",\n",
        "    \"Bettinelli, Valentino\",\n",
        "    \"Bracamonte Martinez, Salvador\",\n",
        "    \"Colque Rivero, Ariana Zoe Del Valle\",\n",
        "    \"Diaz, Dulce Maitena\",\n",
        "    \"FIGUEROA, SANTINO JOSUE\",\n",
        "    \"Flores Cardozo, Agustina Tiara\",\n",
        "    \"Gallo, Octavio Ismael\",\n",
        "    \"Galvan, Lourdes Yamila\",\n",
        "    \"Giangreco, Vitto Tomasso\",\n",
        "    \"Grancara, Martina Luna\",\n",
        "    \"Guanca, Sara Elizabeth\",\n",
        "    \"Lopez, Victoria Constanza\",\n",
        "    \"Mamani Garrido, Rosario Agostina\",\n",
        "    \"Marinaro, Martin Ezequiel\",\n",
        "    \"Merluzzi Dagum, Ignacio\",\n",
        "    \"Messina, Martina\",\n",
        "    \"RASUK, KARIM\", \"Rios, Lucia Magali\",\n",
        "    \"Sanchez Flores, Matías Agustín\",\n",
        "    \"Scarano, Renato Marcelo\",\n",
        "    \"Sierra, Lucas Mauricio\",\n",
        "    \"Tapia, Martin Gabriel\",\n",
        "    \"Vilte, Mia Antonella Alondra\",\n",
        "    \"Virgillito, Katya Milena\"\n",
        "]"
      ]
    },
    {
      "cell_type": "markdown",
      "metadata": {
        "id": "rd6Ug6v3J4uN"
      },
      "source": [
        "## Dada la lista estudiantes:\n",
        "> - Hacer una celda para resolver cada punto.\n",
        "- El TP resuelto será revisado en tu repositorio, no es necesario que lo envíes, pero sí que lo pushees correctamente.\n",
        "- En la nota inicial se contempla:\n",
        "  - La creación del fork.\n",
        "  - El pusheo de los cambios realizados.\n",
        "  - La resolución de los ejercicios propuestos.\n"
      ]
    },
    {
      "cell_type": "markdown",
      "metadata": {
        "id": "wRLng-uURyJ3"
      },
      "source": [
        "1. Reemplaza todos los valores por los que obtengas del método title(). De esta manera tu lista quedara con los datos más homogéneos."
      ]
    },
    {
      "cell_type": "code",
      "execution_count": null,
      "metadata": {
        "colab": {
          "base_uri": "https://localhost:8080/"
        },
        "id": "5lFqJoTaSIWi",
        "outputId": "2c84e7c7-27b0-4183-a594-248d0f2a5027"
      },
      "outputs": [
        {
          "name": "stdout",
          "output_type": "stream",
          "text": [
            "['Alurralde, Solange Stefania', 'Alvarado, Ludmila Del Milagro', 'Angel, Camila Juliana', 'Arenas, Lucas Gabriel', 'Caseres, Maria Antonia', 'Castillo, Paulina Milagros', 'Correa Segovia, Hugo Mariano', 'D Elia, Alvaro Tadeo', 'Flores, Victoria Agustina', 'Geronimo Soriano, Lizzie Amaya', 'Guzman, Angélica Morena', 'Guzman, Jazmin Esmeralda Belen', 'Jaime, Anita Maria Belen', 'Lacour Polo, Nazarena', 'Lascano Guanca, Marcelo Fabricio', 'Lezcano, Celia Morena', 'Mamani Kynast, Nicolas Mauricio', 'Martinez, Tomas Andres', 'Portella Valdivia, Pedro Francisco', 'Retamal Cisneros, Zacarias Josue', 'Rosales, Francisco Gabriel', 'Salem Barba, Mahia', 'Soto Camara, Agustin Ignacio', 'Villalba, Irina', 'Voltolini, Emanuel Tobias', 'Zalazar, Santino Stefano', 'Abud Laspiur, Lourdes Mariel', 'Amador, Luana Micaela', 'Anaquin, Leonardo Ezequiel', 'Araoz Sanchez, Lautaro Nahuel', 'Argañaraz, Agostina Abril', 'Barrera, Matias Ezequiel', 'Barrozo Vedia, Joaquin Nicolas', 'Bettinelli, Valentino', 'Bracamonte Martinez, Salvador', 'Colque Rivero, Ariana Zoe Del Valle', 'Diaz, Dulce Maitena', 'Figueroa, Santino Josue', 'Flores Cardozo, Agustina Tiara', 'Gallo, Octavio Ismael', 'Galvan, Lourdes Yamila', 'Giangreco, Vitto Tomasso', 'Grancara, Martina Luna', 'Guanca, Sara Elizabeth', 'Lopez, Victoria Constanza', 'Mamani Garrido, Rosario Agostina', 'Marinaro, Martin Ezequiel', 'Merluzzi Dagum, Ignacio', 'Messina, Martina', 'Rasuk, Karim', 'Rios, Lucia Magali', 'Sanchez Flores, Matías Agustín', 'Scarano, Renato Marcelo', 'Sierra, Lucas Mauricio', 'Tapia, Martin Gabriel', 'Vilte, Mia Antonella Alondra', 'Virgillito, Katya Milena']\n",
            "Alurralde, Solange Stefania\n",
            "Alvarado, Ludmila Del Milagro\n",
            "Angel, Camila Juliana\n",
            "Arenas, Lucas Gabriel\n",
            "Caseres, Maria Antonia\n",
            "Castillo, Paulina Milagros\n",
            "Correa Segovia, Hugo Mariano\n",
            "D Elia, Alvaro Tadeo\n",
            "Flores, Victoria Agustina\n",
            "Geronimo Soriano, Lizzie Amaya\n",
            "Guzman, Angélica Morena\n",
            "Guzman, Jazmin Esmeralda Belen\n",
            "Jaime, Anita Maria Belen\n",
            "Lacour Polo, Nazarena\n",
            "Lascano Guanca, Marcelo Fabricio\n",
            "Lezcano, Celia Morena\n",
            "Mamani Kynast, Nicolas Mauricio\n",
            "Martinez, Tomas Andres\n",
            "Portella Valdivia, Pedro Francisco\n",
            "Retamal Cisneros, Zacarias Josue\n",
            "Rosales, Francisco Gabriel\n",
            "Salem Barba, Mahia\n",
            "Soto Camara, Agustin Ignacio\n",
            "Villalba, Irina\n",
            "Voltolini, Emanuel Tobias\n",
            "Zalazar, Santino Stefano\n",
            "Abud Laspiur, Lourdes Mariel\n",
            "Amador, Luana Micaela\n",
            "Anaquin, Leonardo Ezequiel\n",
            "Araoz Sanchez, Lautaro Nahuel\n",
            "Argañaraz, Agostina Abril\n",
            "Barrera, Matias Ezequiel\n",
            "Barrozo Vedia, Joaquin Nicolas\n",
            "Bettinelli, Valentino\n",
            "Bracamonte Martinez, Salvador\n",
            "Colque Rivero, Ariana Zoe Del Valle\n",
            "Diaz, Dulce Maitena\n",
            "Figueroa, Santino Josue\n",
            "Flores Cardozo, Agustina Tiara\n",
            "Gallo, Octavio Ismael\n",
            "Galvan, Lourdes Yamila\n",
            "Giangreco, Vitto Tomasso\n",
            "Grancara, Martina Luna\n",
            "Guanca, Sara Elizabeth\n",
            "Lopez, Victoria Constanza\n",
            "Mamani Garrido, Rosario Agostina\n",
            "Marinaro, Martin Ezequiel\n",
            "Merluzzi Dagum, Ignacio\n",
            "Messina, Martina\n",
            "Rasuk, Karim\n",
            "Rios, Lucia Magali\n",
            "Sanchez Flores, Matías Agustín\n",
            "Scarano, Renato Marcelo\n",
            "Sierra, Lucas Mauricio\n",
            "Tapia, Martin Gabriel\n",
            "Vilte, Mia Antonella Alondra\n",
            "Virgillito, Katya Milena\n"
          ]
        }
      ],
      "source": [
        "for i in range(len(alumnos)):\n",
        " alumnos[i] = alumnos[i].title()\n",
        "print(alumnos)\n",
        "for alumno in alumnos:\n",
        "  print(alumno)"
      ]
    },
    {
      "cell_type": "markdown",
      "metadata": {
        "id": "dYEGkYZyLy9I"
      },
      "source": [
        "2. Desarrolla un script que permita ingresar un nombre y muestre cuantas veces aparece este en la lista\n"
      ]
    },
    {
      "cell_type": "code",
      "execution_count": null,
      "metadata": {
        "colab": {
          "base_uri": "https://localhost:8080/",
          "height": 719
        },
        "id": "-B9fB0sSL_Dk",
        "outputId": "4f796b38-ebd0-4a3a-8683-d4d3db67df27"
      },
      "outputs": [
        {
          "name": "stdout",
          "output_type": "stream",
          "text": [
            "Ingresé un nombre: Katya,  Virgillito Milena \n"
          ]
        },
        {
          "ename": "NameError",
          "evalue": "name 'alumnos' is not defined",
          "output_type": "error",
          "traceback": [
            "\u001b[0;31m---------------------------------------------------------------------------\u001b[0m",
            "\u001b[0;31mNameError\u001b[0m                                 Traceback (most recent call last)",
            "\u001b[0;32m<ipython-input-6-ef7fb662c954>\u001b[0m in \u001b[0;36m<cell line: 3>\u001b[0;34m()\u001b[0m\n\u001b[1;32m      1\u001b[0m \u001b[0mcantidad\u001b[0m \u001b[0;34m=\u001b[0m \u001b[0;36m0\u001b[0m\u001b[0;34m\u001b[0m\u001b[0;34m\u001b[0m\u001b[0m\n\u001b[1;32m      2\u001b[0m \u001b[0mnombre_usuario\u001b[0m \u001b[0;34m=\u001b[0m \u001b[0minput\u001b[0m\u001b[0;34m(\u001b[0m\u001b[0;34m\"Ingresé un nombre: \"\u001b[0m\u001b[0;34m)\u001b[0m\u001b[0;34m\u001b[0m\u001b[0;34m\u001b[0m\u001b[0m\n\u001b[0;32m----> 3\u001b[0;31m \u001b[0;32mfor\u001b[0m \u001b[0malumno\u001b[0m \u001b[0;32min\u001b[0m \u001b[0malumnos\u001b[0m\u001b[0;34m:\u001b[0m\u001b[0;34m\u001b[0m\u001b[0;34m\u001b[0m\u001b[0m\n\u001b[0m\u001b[1;32m      4\u001b[0m   \u001b[0;32mif\u001b[0m \u001b[0mnombre_usuario\u001b[0m \u001b[0;32min\u001b[0m \u001b[0malumno\u001b[0m\u001b[0;34m:\u001b[0m\u001b[0;34m\u001b[0m\u001b[0;34m\u001b[0m\u001b[0m\n\u001b[1;32m      5\u001b[0m     \u001b[0mcantidad\u001b[0m \u001b[0;34m+=\u001b[0m\u001b[0;36m1\u001b[0m\u001b[0;34m\u001b[0m\u001b[0;34m\u001b[0m\u001b[0m\n",
            "\u001b[0;31mNameError\u001b[0m: name 'alumnos' is not defined"
          ]
        }
      ],
      "source": [
        "cantidad = 0\n",
        "nombre_usuario = input(\"Ingresé un nombre: \")\n",
        "for alumno in alumnos:\n",
        "  if nombre_usuario in alumno:\n",
        "    cantidad +=1\n",
        "print(f\"{nombre} está {cantidad} veces en la lista\")"
      ]
    },
    {
      "cell_type": "markdown",
      "metadata": {
        "id": "UW2dlBsGMAte"
      },
      "source": [
        "3. Desarrolla un script en python que permita ingresar un nombre y mostrar en que posición de la lista se encuentra el mismo. Realiza las combinaciones necesarias para que no se genere un error si es que el nombre no existe."
      ]
    },
    {
      "cell_type": "code",
      "execution_count": null,
      "metadata": {
        "colab": {
          "base_uri": "https://localhost:8080/"
        },
        "id": "EawAy4SANtkl",
        "outputId": "5a75fe0c-bdb8-49bc-a11a-a82204065233"
      },
      "outputs": [
        {
          "name": "stdout",
          "output_type": "stream",
          "text": [
            "Ingrese un nombre:  Katya\n",
            "[nombre] está en la posición (alumno.idenx(nombre)]\n"
          ]
        }
      ],
      "source": [
        "nombre = input(\"Ingrese un nombre:  \")\n",
        "if nombre in alumnos:\n",
        "  print(f\"{nombre} está en la posición {alumnos.index(nombre)}\")\n",
        "else:\n",
        "  print(f\"{nombre} no sé encuentra en la lista\")"
      ]
    },
    {
      "cell_type": "markdown",
      "metadata": {
        "id": "kZeEHUYVNwGV"
      },
      "source": [
        "4. Agrega un nombre al final de la lista, otro al principio y otro en la posición anterior a la de tu nombre en la lista. Tene en cuenta el formato usado para ingresar los datos: \"apellidos, nombres\""
      ]
    },
    {
      "cell_type": "code",
      "execution_count": null,
      "metadata": {
        "id": "q05GnxXgORzt"
      },
      "outputs": [],
      "source": [
        "nombre_final = input(\"Ingrese un nombre para agregar al final de la lista:  \").title()\n",
        "alumnos.append(nombre_final)\n",
        "\n",
        "nombre_inicio= input(\"Ingrese un nombre para agregar al principio de la lista :  \").title()\n",
        "alumnos.insert(0,nombre_inicio)\n",
        "\n",
        "nombre_antes = input(\"Ingrese un nombre para agregar antes del tuyo en la lista:  \").title()\n",
        "alumnos.insert(54,nombre_antes)\n",
        "\n",
        "for alumno in alumno:\n",
        "  print(alumno)"
      ]
    },
    {
      "cell_type": "markdown",
      "metadata": {
        "id": "b_we1Oz4OUBN"
      },
      "source": [
        "5. Mostrá cada elemento de la lista mientras la vacias usando el metodo pop(). Para lograr esto usá la estructura while.\n",
        "\n",
        "Tene en cuenta que:\n",
        "\n",
        "\n",
        ">```python\n",
        "bool([]) = False\n",
        "```\n",
        "\n"
      ]
    },
    {
      "cell_type": "code",
      "execution_count": null,
      "metadata": {
        "id": "bjn9DhewPhWF"
      },
      "outputs": [],
      "source": [
        "pass"
      ]
    },
    {
      "cell_type": "markdown",
      "metadata": {
        "id": "xY4BuqGdQBF1"
      },
      "source": [
        "6. Crea un menú para ordenar la lista de manera ascendente o descendente. Realiza esta acción y muestra el resultado según la opción elegida por el usuario."
      ]
    },
    {
      "cell_type": "code",
      "execution_count": null,
      "metadata": {
        "id": "NKR3ciBKSjhr"
      },
      "outputs": [],
      "source": [
        "opción = input(\"Elija la forma de ordenar la lista [a] Ascendente o [d] Descendente\")\n",
        "if opción.lower() == 'a':\n",
        "  alumnos.sort()\n",
        "if opción.lower() == 'd'\n",
        "  alumnos.sort() == 'd'\n",
        "for alumno in alumnos:\n",
        "  print(alumno)"
      ]
    },
    {
      "cell_type": "markdown",
      "metadata": {
        "id": "7wb4sRbOSkdM"
      },
      "source": [
        "7. - Crea, a partir de la lista estudiantes, una nueva lista tupla_estudiantes que contenga los nombres en formato de tuplas, donde el primer elemento sea el apellido y el segundo el nombre.\n",
        "  - Muestra cada tupla de la nueva lista.\n"
      ]
    },
    {
      "cell_type": "code",
      "execution_count": null,
      "metadata": {
        "id": "f9v0mfoZS9_s"
      },
      "outputs": [],
      "source": [
        "tupla_estudiantes = []\n",
        "for alumno in alumnos:\n",
        "  apellido,nombre = alumno.split(\",\")\n",
        "  tupla_estudiantes.append((apellido,nombre))\n",
        "for estudiante in tupla_estudiantes:\n",
        "  print(estudiante)"
      ]
    },
    {
      "cell_type": "markdown",
      "metadata": {
        "id": "PziNZOOBS_UQ"
      },
      "source": [
        "8. Crea un menú como el del ejercicio 6, pero ahora permite elegir si ordenar alfabéticamente por nombre o por apellido.\n",
        "> Para resolver este ejercicio, solicitar ayuda en clase o en el foro\n"
      ]
    },
    {
      "cell_type": "code",
      "execution_count": null,
      "metadata": {
        "id": "9WS-cZM9He_C"
      },
      "outputs": [],
      "source": [
        "def segundo_elemento(tupla):\n",
        "  return tupla[1]"
      ]
    },
    {
      "cell_type": "code",
      "execution_count": null,
      "metadata": {
        "colab": {
          "base_uri": "https://localhost:8080/"
        },
        "id": "teugUleEICRa",
        "outputId": "48389e38-432f-4a76-d49f-9aff0c083324"
      },
      "outputs": [
        {
          "name": "stdout",
          "output_type": "stream",
          "text": [
            "\n",
            "                   **********\n",
            "                   *  Menú  *\n",
            "                   **********\n",
            "[aa] Ascendente según apellidos\n",
            "[da] Descendente según apellidos\n",
            "[an] Ascendente según nombres \n",
            "[en] Descendente según nombres aa\n"
          ]
        }
      ],
      "source": [
        "opción = input(\"\"\"\n",
        "                   **********\n",
        "                   *  Menú  *\n",
        "                   **********\n",
        "[aa] Ascendente según apellidos\n",
        "[da] Descendente según apellidos\n",
        "[an] Ascendente según nombres\n",
        "[en] Descendente según nombres \"\"\")\n",
        "opción= input(\"Ingrese una opción:  \")\n",
        "if opción .lower() == 'aa':\n",
        "  tupla_esrudiantes.sort()\n",
        "if opción.lower() == \"da\":\n",
        "  tupla_esrudiantes.sort(Reverse = True)\n",
        "if opción.lower() == \"an\":\n",
        "  tupla_estudiantes.sort(key = segundo_elemento)\n",
        "\n",
        "\n",
        "for estudiante in tupla_estudiantes:\n",
        "  print(estudiante)"
      ]
    },
    {
      "cell_type": "code",
      "execution_count": null,
      "metadata": {
        "id": "X7Xu-KyaTWth"
      },
      "outputs": [],
      "source": [
        "opcion = input(\"Ingrese una opción para ordenar [a] Ascendente [d] Descendente:  \"))\n",
        "if opcion.lower() == 'a':\n",
        "  tupla_estudiantes.sort()\n",
        "if opcion.lower() == 'd':\n",
        "  tupla_estudiantes.sort(reverse = True)\n",
        "\n",
        "for estudiante in tupla_estudiantes:\n",
        "  print(estudiante)"
      ]
    },
    {
      "cell_type": "markdown",
      "metadata": {
        "id": "mtnmvoZ9TXii"
      },
      "source": [
        "9. Agrega un dato en la posición siguiente a la de tu nombre en el nuevo formato de tupla. Para esto solicita al usuario su nombre y apellido, almacena estos datos en una tupla y agrega la misma a la lista \"tupla_estudiantes\""
      ]
    },
    {
      "cell_type": "code",
      "execution_count": null,
      "metadata": {
        "id": "RSXz_XcvT0Nc"
      },
      "outputs": [],
      "source": [
        "pass"
      ]
    },
    {
      "cell_type": "markdown",
      "metadata": {
        "id": "dY4y7OVPT1FT"
      },
      "source": [
        "10. - Pedir al usuario un nombre y mostrar todos los estudiantes que tengan ese nombre.\n",
        "  - Hacer lo mismo con un apellido.\n"
      ]
    },
    {
      "cell_type": "code",
      "execution_count": null,
      "metadata": {
        "id": "bVTVfjH4VMBM"
      },
      "outputs": [],
      "source": [
        "pass"
      ]
    },
    {
      "cell_type": "markdown",
      "metadata": {
        "id": "7zdJLrqXVM30"
      },
      "source": [
        "11. Pedir un nombre al usuario y eliminar todos los registros donde se encuentre un estudiante con el nombre ingresado.\n"
      ]
    },
    {
      "cell_type": "code",
      "execution_count": null,
      "metadata": {
        "id": "3_rnimG_VQr6"
      },
      "outputs": [],
      "source": [
        "pass"
      ]
    },
    {
      "cell_type": "markdown",
      "metadata": {
        "id": "DGU_hs0BVRfa"
      },
      "source": [
        "12. Pedir dos apellidos al usuario, y reemplazar el primer apellido por el segundo en todos los registros donde se encuentre."
      ]
    },
    {
      "cell_type": "code",
      "execution_count": null,
      "metadata": {
        "id": "ghxBxrzTV6aL"
      },
      "outputs": [],
      "source": [
        "pass"
      ]
    }
  ],
  "metadata": {
    "colab": {
      "provenance": [],
      "include_colab_link": true
    },
    "kernelspec": {
      "display_name": "Python 3",
      "name": "python3"
    },
    "language_info": {
      "name": "python"
    }
  },
  "nbformat": 4,
  "nbformat_minor": 0
}